{
 "cells": [
  {
   "cell_type": "code",
   "execution_count": 65,
   "id": "4dda18ff",
   "metadata": {},
   "outputs": [],
   "source": [
    "# Importing necessary libraries\n",
    "import requests\n",
    "import os\n",
    "from dotenv import load_dotenv\n",
    "from transformers import pipeline\n",
    "from collections import Counter\n"
   ]
  },
  {
   "cell_type": "code",
   "execution_count": 66,
   "id": "f391f2dd",
   "metadata": {},
   "outputs": [
    {
     "name": "stdout",
     "output_type": "stream",
     "text": [
      "22e7ea10-a20b-11f0-96a9-f7244a06501b\n"
     ]
    }
   ],
   "source": [
    "# Configuring the API key for zenserp\n",
    "load_dotenv()\n",
    "print(os.getenv(\"ZENSERP_API_KEY\"))"
   ]
  },
  {
   "cell_type": "code",
   "execution_count": 67,
   "id": "9a28c010",
   "metadata": {},
   "outputs": [
    {
     "name": "stdout",
     "output_type": "stream",
     "text": [
      "got 10 headlines\n",
      "Macron Appoints Roland Lescure as French Finance Minister\n",
      "Netflix stock logs biggest weekly drop since April as Elon Musk calls for users to cancel subscriptions\n",
      "African countries gear up for major push on climate innovation, climate financing and climate change laws\n",
      "Directors’ Deals: LSE finance chief in £387,000 deal\n",
      "Here Are The Chevy Trax Discount, Lease And Finance Deals In October 2025\n"
     ]
    }
   ],
   "source": [
    "# Callint the zenserp API to get news headlines about finance\n",
    "API_KEY = os.getenv(\"ZENSERP_API_KEY\")\n",
    "HL = \"us\"      # interface language, e.g., \"en\", \"fr\", \"pt\"     # country/edition, e.g., \"us\", \"fr\", \"uk\"\n",
    "MAX_HEADLINES = 5\n",
    "\n",
    "headers = {\"apikey\": API_KEY};\n",
    "params = (\n",
    "   (\"q\",\"Finance\"), #\"q\" is for query\n",
    "   (\"tbm\",\"nws\"), #\"tbm\" is for to be matched, \"nws\" is for news search\n",
    ");\n",
    "\n",
    "response = requests.get('https://app.zenserp.com/api/v2/search', headers=headers, params=params);\n",
    "data = response.json()\n",
    "\n",
    "# Extracting just the headlines\n",
    "headlines = [item[\"title\"] for item in data.get(\"news_results\", [])]\n",
    "\n",
    "# Printing out the number of headlines and the first 5 headlines\n",
    "print(f\"got {len(headlines)} headlines\")\n",
    "for h in headlines[:5]:\n",
    "    print(h)"
   ]
  },
  {
   "cell_type": "code",
   "execution_count": 68,
   "id": "82331b1a",
   "metadata": {},
   "outputs": [
    {
     "name": "stderr",
     "output_type": "stream",
     "text": [
      "Device set to use mps:0\n"
     ]
    }
   ],
   "source": [
    "# Calling our uploaded news sentiment classification model\n",
    "\n",
    "# Selecting the repo\n",
    "repo_id = \"AIGuy1000/news-sentiment-bert-3\"\n",
    "clf = pipeline(\"text-classification\", model=repo_id)"
   ]
  },
  {
   "cell_type": "code",
   "execution_count": 69,
   "id": "e834a169",
   "metadata": {},
   "outputs": [
    {
     "name": "stdout",
     "output_type": "stream",
     "text": [
      "headline: Macron Appoints Roland Lescure as French Finance Minister, sentiment: neutral, score: 0.9998340606689453\n",
      "headline: Netflix stock logs biggest weekly drop since April as Elon Musk calls for users to cancel subscriptions, sentiment: negative, score: 0.9967480897903442\n",
      "headline: African countries gear up for major push on climate innovation, climate financing and climate change laws, sentiment: positive, score: 0.9963865280151367\n",
      "headline: Directors’ Deals: LSE finance chief in £387,000 deal, sentiment: neutral, score: 0.9998677968978882\n",
      "headline: Here Are The Chevy Trax Discount, Lease And Finance Deals In October 2025, sentiment: neutral, score: 0.9998363256454468\n",
      "headline: Rich World Puts Its Public-Finance Quagmire on Show, sentiment: neutral, score: 0.9997723698616028\n",
      "headline: Coinbase gets an upgrade from Rothschild on growing crypto adoption in finance, sentiment: positive, score: 0.9979121088981628\n",
      "headline: These 5 states give retirees the best shot at financial security, says new study — here’s what makes them so great, sentiment: neutral, score: 0.5494254231452942\n",
      "headline: Tourism rebound driving retail recovery in Hong Kong, finance chief says, sentiment: positive, score: 0.9992590546607971\n",
      "headline: FLASHBACK: How former finance minister, others were jailed in Quality Grain case, sentiment: neutral, score: 0.9993200302124023\n"
     ]
    }
   ],
   "source": [
    "# Running sentiment analysis on the headlines\n",
    "results = clf(headlines)\n",
    "\n",
    "for headline, result in zip(headlines, results):\n",
    "    print(f'headline: {headline}, sentiment: {result[\"label\"]}, score: {result[\"score\"]}')"
   ]
  },
  {
   "cell_type": "code",
   "execution_count": 70,
   "id": "c3d62420",
   "metadata": {},
   "outputs": [
    {
     "name": "stdout",
     "output_type": "stream",
     "text": [
      "{'neutral': 0.6, 'negative': 0.1, 'positive': 0.3}\n"
     ]
    }
   ],
   "source": [
    "# Aggregating the results to see overall sentiment\n",
    "counts = Counter([r[\"label\"] for r in results])\n",
    "total = len(results)\n",
    "percent = {k: v / total for k, v in counts.items()}\n",
    "print(percent)"
   ]
  }
 ],
 "metadata": {
  "kernelspec": {
   "display_name": ".venv",
   "language": "python",
   "name": "python3"
  },
  "language_info": {
   "codemirror_mode": {
    "name": "ipython",
    "version": 3
   },
   "file_extension": ".py",
   "mimetype": "text/x-python",
   "name": "python",
   "nbconvert_exporter": "python",
   "pygments_lexer": "ipython3",
   "version": "3.12.6"
  }
 },
 "nbformat": 4,
 "nbformat_minor": 5
}
