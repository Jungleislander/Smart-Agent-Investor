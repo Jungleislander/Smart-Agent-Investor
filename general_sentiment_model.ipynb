{
 "cells": [
  {
   "cell_type": "code",
   "execution_count": null,
   "id": "4570266b",
   "metadata": {},
   "outputs": [],
   "source": [
    "import kagglehub\n",
    "import pandas as pd\n",
    "import numpy as np\n",
    "from transformers import BertTokenizer, BertForSequenceClassification\n",
    "from transformers import pipeline\n",
    "import torch\n",
    "from sklearn.model_selection import train_test_split\n",
    "from transformers import TrainingArguments\n",
    "from transformers import AutoTokenizer, DataCollatorWithPadding\n",
    "from transformers import Trainer\n",
    "from datasets import Dataset\n",
    "import evaluate"
   ]
  },
  {
   "cell_type": "code",
   "execution_count": 2,
   "id": "9e6a8c85",
   "metadata": {},
   "outputs": [
    {
     "name": "stdout",
     "output_type": "stream",
     "text": [
      "Path to dataset files: /Users/steve/.cache/kagglehub/datasets/ankurzing/sentiment-analysis-for-financial-news/versions/5\n"
     ]
    }
   ],
   "source": [
    "# Downloading latest version\n",
    "path = kagglehub.dataset_download(\"ankurzing/sentiment-analysis-for-financial-news\")\n",
    "\n",
    "print(\"Path to dataset files:\", path)"
   ]
  },
  {
   "cell_type": "code",
   "execution_count": 3,
   "id": "3a8af551",
   "metadata": {},
   "outputs": [
    {
     "data": {
      "text/html": [
       "<div>\n",
       "<style scoped>\n",
       "    .dataframe tbody tr th:only-of-type {\n",
       "        vertical-align: middle;\n",
       "    }\n",
       "\n",
       "    .dataframe tbody tr th {\n",
       "        vertical-align: top;\n",
       "    }\n",
       "\n",
       "    .dataframe thead th {\n",
       "        text-align: right;\n",
       "    }\n",
       "</style>\n",
       "<table border=\"1\" class=\"dataframe\">\n",
       "  <thead>\n",
       "    <tr style=\"text-align: right;\">\n",
       "      <th></th>\n",
       "      <th>Sentiment</th>\n",
       "      <th>Headline</th>\n",
       "    </tr>\n",
       "  </thead>\n",
       "  <tbody>\n",
       "    <tr>\n",
       "      <th>0</th>\n",
       "      <td>neutral</td>\n",
       "      <td>According to Gran , the company has no plans t...</td>\n",
       "    </tr>\n",
       "    <tr>\n",
       "      <th>1</th>\n",
       "      <td>neutral</td>\n",
       "      <td>Technopolis plans to develop in stages an area...</td>\n",
       "    </tr>\n",
       "    <tr>\n",
       "      <th>2</th>\n",
       "      <td>negative</td>\n",
       "      <td>The international electronic industry company ...</td>\n",
       "    </tr>\n",
       "    <tr>\n",
       "      <th>3</th>\n",
       "      <td>positive</td>\n",
       "      <td>With the new production plant the company woul...</td>\n",
       "    </tr>\n",
       "    <tr>\n",
       "      <th>4</th>\n",
       "      <td>positive</td>\n",
       "      <td>According to the company 's updated strategy f...</td>\n",
       "    </tr>\n",
       "  </tbody>\n",
       "</table>\n",
       "</div>"
      ],
      "text/plain": [
       "  Sentiment                                           Headline\n",
       "0   neutral  According to Gran , the company has no plans t...\n",
       "1   neutral  Technopolis plans to develop in stages an area...\n",
       "2  negative  The international electronic industry company ...\n",
       "3  positive  With the new production plant the company woul...\n",
       "4  positive  According to the company 's updated strategy f..."
      ]
     },
     "metadata": {},
     "output_type": "display_data"
    }
   ],
   "source": [
    "# Creating a dataframe to easily view our dataset\n",
    "df = pd.read_csv(path + '/all-data.csv', header=None, encoding=\"cp1252\")\n",
    "df.columns = [\"Sentiment\", \"Headline\"] \n",
    "\n",
    "# Checking out the head of the dataframe\n",
    "display(df.head())"
   ]
  },
  {
   "cell_type": "code",
   "execution_count": 4,
   "id": "92b7e145",
   "metadata": {},
   "outputs": [
    {
     "data": {
      "text/html": [
       "<div>\n",
       "<style scoped>\n",
       "    .dataframe tbody tr th:only-of-type {\n",
       "        vertical-align: middle;\n",
       "    }\n",
       "\n",
       "    .dataframe tbody tr th {\n",
       "        vertical-align: top;\n",
       "    }\n",
       "\n",
       "    .dataframe thead th {\n",
       "        text-align: right;\n",
       "    }\n",
       "</style>\n",
       "<table border=\"1\" class=\"dataframe\">\n",
       "  <thead>\n",
       "    <tr style=\"text-align: right;\">\n",
       "      <th></th>\n",
       "      <th>Sentiment</th>\n",
       "      <th>Headline</th>\n",
       "    </tr>\n",
       "  </thead>\n",
       "  <tbody>\n",
       "    <tr>\n",
       "      <th>0</th>\n",
       "      <td>1</td>\n",
       "      <td>According to Gran , the company has no plans t...</td>\n",
       "    </tr>\n",
       "    <tr>\n",
       "      <th>1</th>\n",
       "      <td>1</td>\n",
       "      <td>Technopolis plans to develop in stages an area...</td>\n",
       "    </tr>\n",
       "    <tr>\n",
       "      <th>2</th>\n",
       "      <td>0</td>\n",
       "      <td>The international electronic industry company ...</td>\n",
       "    </tr>\n",
       "    <tr>\n",
       "      <th>3</th>\n",
       "      <td>2</td>\n",
       "      <td>With the new production plant the company woul...</td>\n",
       "    </tr>\n",
       "    <tr>\n",
       "      <th>4</th>\n",
       "      <td>2</td>\n",
       "      <td>According to the company 's updated strategy f...</td>\n",
       "    </tr>\n",
       "  </tbody>\n",
       "</table>\n",
       "</div>"
      ],
      "text/plain": [
       "   Sentiment                                           Headline\n",
       "0          1  According to Gran , the company has no plans t...\n",
       "1          1  Technopolis plans to develop in stages an area...\n",
       "2          0  The international electronic industry company ...\n",
       "3          2  With the new production plant the company woul...\n",
       "4          2  According to the company 's updated strategy f..."
      ]
     },
     "metadata": {},
     "output_type": "display_data"
    }
   ],
   "source": [
    "# To make our lives easier, we'll start by replacing \"negative\" and \"positive\" with numeric values.\n",
    "df[\"Sentiment\"] = df[\"Sentiment\"].map({\"negative\": 0, \"neutral\": 1, \"positive\": 2})\n",
    "\n",
    "# Checking out that it worked\n",
    "display(df.head())"
   ]
  },
  {
   "cell_type": "code",
   "execution_count": 5,
   "id": "9fe236e4",
   "metadata": {},
   "outputs": [
    {
     "data": {
      "text/plain": [
       "(3876, 970)"
      ]
     },
     "execution_count": 5,
     "metadata": {},
     "output_type": "execute_result"
    }
   ],
   "source": [
    "# Now we'll split our dataset into test and train sets\n",
    "train, test = train_test_split(\n",
    "    df[[\"Headline\", \"Sentiment\"]],\n",
    "    test_size=0.2,\n",
    "    stratify=df[\"Sentiment\"], # Ensuring consistent sentiment proportions across train and test\n",
    "    random_state=42,\n",
    ")\n",
    "len(train), len(test)"
   ]
  },
  {
   "cell_type": "code",
   "execution_count": 6,
   "id": "78a963b9",
   "metadata": {},
   "outputs": [
    {
     "name": "stderr",
     "output_type": "stream",
     "text": [
      "Some weights of BertForSequenceClassification were not initialized from the model checkpoint at bert-base-uncased and are newly initialized: ['classifier.bias', 'classifier.weight']\n",
      "You should probably TRAIN this model on a down-stream task to be able to use it for predictions and inference.\n"
     ]
    }
   ],
   "source": [
    "# Loading the pre-trained BERT tokenizer and model\n",
    "BERT_tokenizer = BertTokenizer.from_pretrained(\"bert-base-uncased\")\n",
    "BERT_model = BertForSequenceClassification.from_pretrained(\"bert-base-uncased\", num_labels=3)"
   ]
  },
  {
   "cell_type": "code",
   "execution_count": 7,
   "id": "89806b2d",
   "metadata": {},
   "outputs": [],
   "source": [
    "# Tokenizing the training and test data for BERT input\n",
    "\n",
    "# Creating a tokenizing function\n",
    "def tokenize_function(texts, tokenizer, max_length):\n",
    "    BERT_output = tokenizer(\n",
    "        texts.tolist(),\n",
    "        max_length=max_length,\n",
    "        truncation=True,\n",
    "    )\n",
    "    return BERT_output"
   ]
  },
  {
   "cell_type": "code",
   "execution_count": 8,
   "id": "9c4f9b36",
   "metadata": {},
   "outputs": [],
   "source": [
    "# Creating a tokenized dictionary from the training data\n",
    "train_tokenized = tokenize_function(train[\"Headline\"], BERT_tokenizer, max_length=512)\n",
    "train_labels = torch.tensor(train[\"Sentiment\"].values)\n",
    "\n",
    "# Creating a tokenized dictionary from the test data\n",
    "test_tokenized = tokenize_function(test[\"Headline\"], BERT_tokenizer, max_length=512)\n",
    "test_labels = torch.tensor(test[\"Sentiment\"].values)\n",
    "\n",
    "# Adding the labels to the tokenized dictionaries before creating the Dataset objects\n",
    "train_tokenized['labels'] = train['Sentiment'].tolist()\n",
    "test_tokenized['labels'] = test['Sentiment'].tolist()\n",
    "\n",
    "# Converting the tokenized dictionaries to Dataset objects that BERT can use.\n",
    "train_dataset = Dataset.from_dict(train_tokenized)\n",
    "test_dataset = Dataset.from_dict(test_tokenized)\n",
    "\n",
    "# Creating a data collator for padding purposes\n",
    "data_collator = DataCollatorWithPadding(tokenizer=BERT_tokenizer)"
   ]
  },
  {
   "cell_type": "code",
   "execution_count": 9,
   "id": "2d54838d",
   "metadata": {},
   "outputs": [],
   "source": [
    "# Defining a Training Arguments class to contain the hyperparameters the Trainer will use\n",
    "training_args = TrainingArguments(\n",
    "    \"test-trainer\", # directory where the trained model will be saved\n",
    "    num_train_epochs=5, # increased from 3 to 5 to improve performance\n",
    "    report_to=\"none\" # Disabling Weights & Biases reporting so no API key is needed.\n",
    ")"
   ]
  },
  {
   "cell_type": "code",
   "execution_count": 10,
   "id": "3fc8990b",
   "metadata": {},
   "outputs": [],
   "source": [
    "# Defining a Trainer, and passing it all the objects constructed up to now\n",
    "BERT_trainer = Trainer(\n",
    "    BERT_model,\n",
    "    training_args,\n",
    "    train_dataset=train_dataset,\n",
    "    eval_dataset=test_dataset,\n",
    "    data_collator=data_collator,\n",
    "    processing_class=BERT_tokenizer,\n",
    ")"
   ]
  },
  {
   "cell_type": "code",
   "execution_count": 11,
   "id": "ff48ad07",
   "metadata": {},
   "outputs": [
    {
     "name": "stderr",
     "output_type": "stream",
     "text": [
      "/Users/steve/Desktop/USD/AAI 520 - NLP/Group Project/The-Debt-Solver/.venv/lib/python3.12/site-packages/torch/utils/data/dataloader.py:684: UserWarning: 'pin_memory' argument is set as true but not supported on MPS now, then device pinned memory won't be used.\n",
      "  warnings.warn(warn_msg)\n"
     ]
    },
    {
     "data": {
      "text/html": [
       "\n",
       "    <div>\n",
       "      \n",
       "      <progress value='2425' max='2425' style='width:300px; height:20px; vertical-align: middle;'></progress>\n",
       "      [2425/2425 11:32, Epoch 5/5]\n",
       "    </div>\n",
       "    <table border=\"1\" class=\"dataframe\">\n",
       "  <thead>\n",
       " <tr style=\"text-align: left;\">\n",
       "      <th>Step</th>\n",
       "      <th>Training Loss</th>\n",
       "    </tr>\n",
       "  </thead>\n",
       "  <tbody>\n",
       "    <tr>\n",
       "      <td>500</td>\n",
       "      <td>0.566100</td>\n",
       "    </tr>\n",
       "    <tr>\n",
       "      <td>1000</td>\n",
       "      <td>0.307200</td>\n",
       "    </tr>\n",
       "    <tr>\n",
       "      <td>1500</td>\n",
       "      <td>0.153800</td>\n",
       "    </tr>\n",
       "    <tr>\n",
       "      <td>2000</td>\n",
       "      <td>0.077400</td>\n",
       "    </tr>\n",
       "  </tbody>\n",
       "</table><p>"
      ],
      "text/plain": [
       "<IPython.core.display.HTML object>"
      ]
     },
     "metadata": {},
     "output_type": "display_data"
    },
    {
     "name": "stderr",
     "output_type": "stream",
     "text": [
      "/Users/steve/Desktop/USD/AAI 520 - NLP/Group Project/The-Debt-Solver/.venv/lib/python3.12/site-packages/torch/utils/data/dataloader.py:684: UserWarning: 'pin_memory' argument is set as true but not supported on MPS now, then device pinned memory won't be used.\n",
      "  warnings.warn(warn_msg)\n",
      "/Users/steve/Desktop/USD/AAI 520 - NLP/Group Project/The-Debt-Solver/.venv/lib/python3.12/site-packages/torch/utils/data/dataloader.py:684: UserWarning: 'pin_memory' argument is set as true but not supported on MPS now, then device pinned memory won't be used.\n",
      "  warnings.warn(warn_msg)\n",
      "/Users/steve/Desktop/USD/AAI 520 - NLP/Group Project/The-Debt-Solver/.venv/lib/python3.12/site-packages/torch/utils/data/dataloader.py:684: UserWarning: 'pin_memory' argument is set as true but not supported on MPS now, then device pinned memory won't be used.\n",
      "  warnings.warn(warn_msg)\n"
     ]
    },
    {
     "data": {
      "text/plain": [
       "TrainOutput(global_step=2425, training_loss=0.2328042008704746, metrics={'train_runtime': 693.4705, 'train_samples_per_second': 27.946, 'train_steps_per_second': 3.497, 'total_flos': 522368523853848.0, 'train_loss': 0.2328042008704746, 'epoch': 5.0})"
      ]
     },
     "execution_count": 11,
     "metadata": {},
     "output_type": "execute_result"
    }
   ],
   "source": [
    "# Fine-tuning our model on the dataset with the Trainer\n",
    "BERT_trainer.train()"
   ]
  },
  {
   "cell_type": "code",
   "execution_count": 17,
   "id": "e1786972",
   "metadata": {},
   "outputs": [
    {
     "name": "stderr",
     "output_type": "stream",
     "text": [
      "/Users/steve/Desktop/USD/AAI 520 - NLP/Group Project/The-Debt-Solver/.venv/lib/python3.12/site-packages/torch/utils/data/dataloader.py:684: UserWarning: 'pin_memory' argument is set as true but not supported on MPS now, then device pinned memory won't be used.\n",
      "  warnings.warn(warn_msg)\n"
     ]
    },
    {
     "data": {
      "text/html": [],
      "text/plain": [
       "<IPython.core.display.HTML object>"
      ]
     },
     "metadata": {},
     "output_type": "display_data"
    },
    {
     "name": "stdout",
     "output_type": "stream",
     "text": [
      "{'accuracy': 0.8494845360824742}\n",
      "{'precision': 0.829794774546987}\n",
      "{'recall': 0.8398720387356752}\n",
      "{'f1': 0.8346907821467303}\n"
     ]
    }
   ],
   "source": [
    "# Using trainer.predict to run inference on the test dataset\n",
    "predictions = BERT_trainer.predict(test_dataset)\n",
    "\n",
    "# Converting the scores from the inference into actual class predictions\n",
    "predicted_classes = np.argmax(predictions.predictions, axis=-1)\n",
    "\n",
    "# Evaluating accuracy of predictions\n",
    "metric_1 = evaluate.load(\"accuracy\")\n",
    "accuracy = metric_1.compute(\n",
    "    predictions=predicted_classes, \n",
    "    references=predictions.label_ids\n",
    ")\n",
    "print(accuracy)\n",
    "\n",
    "# Evaluating precision of predictions\n",
    "metric_2 = evaluate.load(\"precision\")\n",
    "precision = metric_2.compute(\n",
    "    predictions=predicted_classes,\n",
    "    references=predictions.label_ids,\n",
    "    average=\"macro\"\n",
    ")\n",
    "print(precision)\n",
    "\n",
    "# Evaluating recall of predictions\n",
    "metric_3 = evaluate.load(\"recall\")\n",
    "recall = metric_3.compute(\n",
    "    predictions=predicted_classes,\n",
    "    references=predictions.label_ids,\n",
    "    average=\"macro\"\n",
    ")\n",
    "print(recall)\n",
    "\n",
    "# Evaluating F1 score of predictions\n",
    "metric_4 = evaluate.load(\"f1\")\n",
    "f1 = metric_4.compute(\n",
    "    predictions=predicted_classes,\n",
    "    references=predictions.label_ids,\n",
    "    average=\"macro\"   \n",
    ")\n",
    "print(f1)"
   ]
  },
  {
   "cell_type": "code",
   "execution_count": 18,
   "id": "a300cab2",
   "metadata": {},
   "outputs": [
    {
     "data": {
      "image/png": "[encoded data removed]",
      "text/plain": [
       "<Figure size 640x480 with 2 Axes>"
      ]
     },
     "metadata": {},
     "output_type": "display_data"
    }
   ],
   "source": [
    "from sklearn.metrics import confusion_matrix, ConfusionMatrixDisplay\n",
    "import matplotlib.pyplot as plt\n",
    "\n",
    "cm = confusion_matrix(predictions.label_ids, predicted_classes)\n",
    "disp = ConfusionMatrixDisplay(cm, display_labels=[\"negative\",\"neutral\",\"positive\"])\n",
    "disp.plot(cmap=\"Blues\")\n",
    "plt.show()"
   ]
  },
  {
   "cell_type": "code",
   "execution_count": 19,
   "id": "724094f4",
   "metadata": {},
   "outputs": [
    {
     "name": "stderr",
     "output_type": "stream",
     "text": [
      "/Users/steve/Desktop/USD/AAI 520 - NLP/Group Project/The-Debt-Solver/.venv/lib/python3.12/site-packages/torch/utils/data/dataloader.py:684: UserWarning: 'pin_memory' argument is set as true but not supported on MPS now, then device pinned memory won't be used.\n",
      "  warnings.warn(warn_msg)\n"
     ]
    },
    {
     "data": {
      "text/html": [],
      "text/plain": [
       "<IPython.core.display.HTML object>"
      ]
     },
     "metadata": {},
     "output_type": "display_data"
    },
    {
     "name": "stdout",
     "output_type": "stream",
     "text": [
      "The sentiment of this headline is: Neutral\n"
     ]
    }
   ],
   "source": [
    "# Trying out a new example to verify\n",
    "\n",
    "# Creating the world's best review\n",
    "my_text = \"Job numbers for this quarter remain flat\"\n",
    "\n",
    "# sticking it in a dataframe since that's what our pipeline is built for\n",
    "my_text_df = pd.DataFrame([my_text], columns=[\"review\"])\n",
    "\n",
    "# Tokenizing it\n",
    "my_text_tokenized = tokenize_function(my_text_df[\"review\"], BERT_tokenizer, max_length=512)\n",
    "\n",
    "# Wrapping the tokenized example in a Dataset\n",
    "my_text_dataset = Dataset.from_dict(my_text_tokenized)\n",
    "\n",
    "# Using trainer.predict to run inference on the new data\n",
    "sample_predictions = BERT_trainer.predict(my_text_dataset)\n",
    "\n",
    "# Converting the scores from the inference into actual class predictions\n",
    "sample_predicted_class = np.argmax(sample_predictions.predictions, axis=-1)\n",
    "\n",
    "# Mapping the predicted class back to sentiment, with some embellishment\n",
    "sentiment_map = {0: \"Negative\", 1: \"Neutral\", 2: \"Positive\"}\n",
    "predicted_sentiment = sentiment_map[sample_predicted_class[0]]\n",
    "\n",
    "# Printing up our final result\n",
    "print(f\"The sentiment of this headline is: {predicted_sentiment}\")"
   ]
  },
  {
   "cell_type": "code",
   "execution_count": 32,
   "id": "799eb8a6",
   "metadata": {},
   "outputs": [],
   "source": [
    "# Saving the fine-tuned model and the tokenizer for later use\n",
    "model = BERT_trainer.model\n",
    "tokenizer = BERT_tokenizer"
   ]
  },
  {
   "cell_type": "code",
   "execution_count": null,
   "id": "dfee1b44",
   "metadata": {},
   "outputs": [],
   "source": [
    "# Configuring the model to return human-readable labels when uploaded to HuggingFace\n",
    "\n",
    "# Mapping labels\n",
    "labels = {\"negative\": 0, \"neutral\": 1, \"positive\": 2}\n",
    "\n",
    "# Confuguring the reverse mapping\n",
    "model.config.id2label = {v: k for k, v in labels.items()}\n",
    "model.config.label2id = labels\n",
    "\n",
    "# Setting the problem type for the model\n",
    "model.config.problem_type = \"single_label_classification\""
   ]
  },
  {
   "cell_type": "code",
   "execution_count": 33,
   "id": "5f25db54",
   "metadata": {},
   "outputs": [
    {
     "data": {
      "application/vnd.jupyter.widget-view+json": {
       "model_id": "454cd64c914749aa9dbcfad335771c4e",
       "version_major": 2,
       "version_minor": 0
      },
      "text/plain": [
       "README.md: 0.00B [00:00, ?B/s]"
      ]
     },
     "metadata": {},
     "output_type": "display_data"
    },
    {
     "data": {
      "application/vnd.jupyter.widget-view+json": {
       "model_id": "e89918c1e5f74f7ba402ed0bfb9ea106",
       "version_major": 2,
       "version_minor": 0
      },
      "text/plain": [
       "Processing Files (0 / 0): |          |  0.00B /  0.00B            "
      ]
     },
     "metadata": {},
     "output_type": "display_data"
    },
    {
     "data": {
      "application/vnd.jupyter.widget-view+json": {
       "model_id": "41a2dc2404914c49bce8d63bcb93759a",
       "version_major": 2,
       "version_minor": 0
      },
      "text/plain": [
       "New Data Upload: |          |  0.00B /  0.00B            "
      ]
     },
     "metadata": {},
     "output_type": "display_data"
    },
    {
     "name": "stderr",
     "output_type": "stream",
     "text": [
      "No files have been modified since last commit. Skipping to prevent empty commit.\n"
     ]
    },
    {
     "data": {
      "text/plain": [
       "CommitInfo(commit_url='https://huggingface.co/AIGuy1000/news-sentiment-bert-3/commit/7bc6674d932f3b4304200a476cbb1c2e88b36624', commit_message='Upload tokenizer', commit_description='', oid='7bc6674d932f3b4304200a476cbb1c2e88b36624', pr_url=None, repo_url=RepoUrl('https://huggingface.co/AIGuy1000/news-sentiment-bert-3', endpoint='https://huggingface.co', repo_type='model', repo_id='AIGuy1000/news-sentiment-bert-3'), pr_revision=None, pr_num=None)"
      ]
     },
     "execution_count": 33,
     "metadata": {},
     "output_type": "execute_result"
    }
   ],
   "source": [
    "repo_id = \"AIGuy1000/news-sentiment-bert-3\"\n",
    "\n",
    "model.push_to_hub(repo_id)\n",
    "tokenizer.push_to_hub(repo_id)"
   ]
  },
  {
   "cell_type": "code",
   "execution_count": 36,
   "id": "ba8a0615",
   "metadata": {},
   "outputs": [
    {
     "name": "stderr",
     "output_type": "stream",
     "text": [
      "Device set to use mps:0\n"
     ]
    },
    {
     "name": "stdout",
     "output_type": "stream",
     "text": [
      "[{'label': 'positive', 'score': 0.9995436072349548}]\n",
      "[{'label': 'neutral', 'score': 0.9947181344032288}]\n"
     ]
    }
   ],
   "source": [
    "# Testing the uploaded model\n",
    "\n",
    "# Selecting the repo\n",
    "repo_id = \"AIGuy1000/news-sentiment-bert-3\"\n",
    "clf = pipeline(\"text-classification\", model=repo_id)\n",
    "\n",
    "# Printing out some examples\n",
    "print(clf(\"The company posted strong quarterly earnings despite headwinds.\"))\n",
    "print(clf(\"The stock outlook remains uncertain due to regulatory risks.\"))"
   ]
  }
 ],
 "metadata": {
  "kernelspec": {
   "display_name": ".venv",
   "language": "python",
   "name": "python3"
  },
  "language_info": {
   "codemirror_mode": {
    "name": "ipython",
    "version": 3
   },
   "file_extension": ".py",
   "mimetype": "text/x-python",
   "name": "python",
   "nbconvert_exporter": "python",
   "pygments_lexer": "ipython3",
   "version": "3.12.6"
  }
 },
 "nbformat": 4,
 "nbformat_minor": 5
}
